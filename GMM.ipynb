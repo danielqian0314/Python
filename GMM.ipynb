{
 "cells": [
  {
   "cell_type": "code",
   "execution_count": 370,
   "metadata": {},
   "outputs": [
    {
     "name": "stdout",
     "output_type": "stream",
     "text": [
      "X.shape: (300, 2)\n"
     ]
    }
   ],
   "source": [
    "import matplotlib.pyplot as plt\n",
    "import numpy as np\n",
    "import scipy.sparse.linalg as sla\n",
    "from scipy.stats import multivariate_normal\n",
    "\n",
    "# load the data\n",
    "X = np.loadtxt(\"C:/Users/Danie_000/OneDrive/python/pythonproject/mixture.txt\")\n",
    "print(\"X.shape:\", X.shape)"
   ]
  },
  {
   "cell_type": "code",
   "execution_count": 371,
   "metadata": {},
   "outputs": [
    {
     "data": {
      "image/png": "[encoded data removed]",
      "text/plain": [
       "<matplotlib.figure.Figure at 0x8e4ab82c50>"
      ]
     },
     "metadata": {},
     "output_type": "display_data"
    }
   ],
   "source": [
    "fig = plt.figure()\n",
    "ax = fig.add_subplot(111)  # the projection part is important\n",
    "ax.scatter(X[:, 0], X[:, 1], color=\"black\")  # also show the real data\n",
    "ax.set_title(\"data\")\n",
    "plt.show()"
   ]
  },
  {
   "cell_type": "code",
   "execution_count": 420,
   "metadata": {},
   "outputs": [],
   "source": [
    "K=3\n",
    "t=0\n",
    "iteration=np.zeros((10,))"
   ]
  },
  {
   "cell_type": "code",
   "execution_count": 432,
   "metadata": {
    "scrolled": true
   },
   "outputs": [
    {
     "name": "stdout",
     "output_type": "stream",
     "text": [
      "try  10\n",
      "-337.3823892442365\n",
      "[19. 17. 14. 34. 21. 33. 14. 31. 15. 19.]\n"
     ]
    }
   ],
   "source": [
    "#initialization\n",
    "means=np.zeros((K,X.shape[1]))\n",
    "covs=np.zeros((K,X.shape[1],X.shape[1]))\n",
    "pi=np.zeros((K,))\n",
    "gamma=np.zeros((X.shape[0],K))\n",
    "for k in range(K):\n",
    "    means[k]=X[np.random.randint(X.shape[0])]\n",
    "    covs[k]=np.identity(2)\n",
    "    pi[k]=1.0/K\n",
    "\n",
    "#EM Algorithm    \n",
    "maxll=-1000\n",
    "while np.abs(ll-maxll)>0.001:\n",
    "    maxll=ll\n",
    "    ll=0\n",
    "    \n",
    "    #Evaluate the posterior probability γik\n",
    "    for i in range(X.shape[0]):\n",
    "        for k in range(K):\n",
    "            sum=0\n",
    "            for j in range(K):\n",
    "                sum+=pi[j]*multivariate_normal.pdf(X[i],means[j], covs[j])\n",
    "            gamma[i][k]=pi[k]*multivariate_normal.pdf(X[i],means[k], covs[k])/sum\n",
    "            \n",
    "    #upgrade pi, means, covariances\n",
    "    N=np.sum(gamma,axis=0)\n",
    "    pi=N/X.shape[0]\n",
    "    for k in range(K):\n",
    "        summean=0\n",
    "        for i in range(X.shape[0]):\n",
    "            summean+=gamma[i][k]*X[i]\n",
    "        means[k]=summean/N[k]\n",
    "\n",
    "    for k in range(K):\n",
    "        sumcov=0\n",
    "        for i in range(X.shape[0]):\n",
    "            sumcov+=gamma[i][k]*np.dot((X[i]-means[k]).reshape(2,1),(X[i]-means[k]).reshape(1,2))\n",
    "        covs[k]=sumcov/N[k]\n",
    "        \n",
    "    for i in range(X.shape[0]):\n",
    "        sumK=0\n",
    "        for k in range(K):\n",
    "            sumK+=pi[k]*multivariate_normal.pdf(X[i],means[k], covs[k])\n",
    "        ll+=np.log(sumK)    \n",
    "    iteration[t]+=1\n",
    "    \n",
    "t+=1\n",
    "print('try ',t)\n",
    "print(ll)\n",
    "print(iteration)"
   ]
  },
  {
   "cell_type": "code",
   "execution_count": 427,
   "metadata": {},
   "outputs": [
    {
     "data": {
      "image/png": "[encoded data removed]",
      "text/plain": [
       "<matplotlib.figure.Figure at 0x8e4c858128>"
      ]
     },
     "metadata": {},
     "output_type": "display_data"
    }
   ],
   "source": [
    "X1=np.zeros((X.shape[1],))\n",
    "X2=np.zeros((X.shape[1],))\n",
    "X3=np.zeros((X.shape[1],))\n",
    "for i in range(X.shape[0]):\n",
    "    if np.argmax(gamma[i])==0:\n",
    "        X1=np.vstack((X1,X[i]))\n",
    "    if np.argmax(gamma[i])==1:\n",
    "        X2=np.vstack((X2,X[i]))\n",
    "    if np.argmax(gamma[i])==2:\n",
    "        X3=np.vstack((X3,X[i]))\n",
    "fig = plt.figure(2)\n",
    "ax = fig.add_subplot(111)  # the projection part is important\n",
    "\n",
    "ax.scatter(X1[1:, 0], X1[1:, 1])  # also show the real data\n",
    "ax.scatter(X2[1:, 0], X2[1:, 1],color='black')  # also show the real data\n",
    "ax.scatter(X3[1:, 0], X3[1:, 1],color='green')  # also show the real data\n",
    "ax.set_title(\"GMM Clustering\")\n",
    "plt.show()"
   ]
  },
  {
   "cell_type": "code",
   "execution_count": 433,
   "metadata": {},
   "outputs": [],
   "source": [
    "K=3\n",
    "t=0\n",
    "iteration2=np.zeros((10,))"
   ]
  },
  {
   "cell_type": "code",
   "execution_count": 443,
   "metadata": {},
   "outputs": [
    {
     "name": "stdout",
     "output_type": "stream",
     "text": [
      "try  10\n",
      "-337.38232546795246\n",
      "[22. 21. 28. 20. 22. 19. 20. 20. 20. 42.]\n"
     ]
    }
   ],
   "source": [
    "#initialization\n",
    "means=np.zeros((K,X.shape[1]))\n",
    "covs=np.zeros((K,X.shape[1],X.shape[1]))\n",
    "pi=np.zeros((K,))\n",
    "gamma=np.zeros((X.shape[0],K))\n",
    "for i in range(X.shape[0]):\n",
    "    gamma[i][np.random.randint(3)]=1\n",
    "\n",
    "#EM Algorithm    \n",
    "maxll=-1000\n",
    "while np.abs(ll-maxll)>0.001:\n",
    "    maxll=ll\n",
    "    ll=0\n",
    "    #M-Step\n",
    "    N=np.sum(gamma,axis=0)\n",
    "    pi=N/X.shape[0]\n",
    "    for k in range(K):\n",
    "        summean=0\n",
    "        for i in range(X.shape[0]):\n",
    "            summean+=gamma[i][k]*X[i]\n",
    "        means[k]=summean/N[k]\n",
    "\n",
    "    for k in range(K):\n",
    "        sumcov=0\n",
    "        for i in range(X.shape[0]):\n",
    "            sumcov+=gamma[i][k]*np.dot((X[i]-means[k]).reshape(2,1),(X[i]-means[k]).reshape(1,2))\n",
    "        covs[k]=sumcov/N[k]\n",
    "        \n",
    "    #E-step\n",
    "    for i in range(X.shape[0]):\n",
    "        for k in range(K):\n",
    "            sum=0\n",
    "            for j in range(K):\n",
    "                sum+=pi[j]*multivariate_normal.pdf(X[i],means[j], covs[j])\n",
    "            gamma[i][k]=pi[k]*multivariate_normal.pdf(X[i],means[k], covs[k])/sum\n",
    "            \n",
    "    for i in range(X.shape[0]):\n",
    "        sumK=0\n",
    "        for k in range(K):\n",
    "            sumK+=pi[k]*multivariate_normal.pdf(X[i],means[k], covs[k])\n",
    "        ll+=np.log(sumK)\n",
    "    iteration2[t]+=1\n",
    "t+=1\n",
    "print('try ',t)\n",
    "print(ll)\n",
    "print(iteration2)"
   ]
  },
  {
   "cell_type": "code",
   "execution_count": 459,
   "metadata": {},
   "outputs": [
    {
     "data": {
      "text/plain": [
       "Text(0,0.5,'iterations')"
      ]
     },
     "execution_count": 459,
     "metadata": {},
     "output_type": "execute_result"
    },
    {
     "data": {
      "image/png": "[encoded data removed]",
      "text/plain": [
       "<matplotlib.figure.Figure at 0x8e4cc4aeb8>"
      ]
     },
     "metadata": {},
     "output_type": "display_data"
    }
   ],
   "source": [
    "fig = plt.figure()\n",
    "ax1 = fig.add_subplot(111)  # the projection part is important\n",
    "ax1.plot(np.arange(1,11),iteration)\n",
    "ax1.plot(np.arange(1,11),iteration2)\n",
    "plt.ylabel('iterations')"
   ]
  },
  {
   "cell_type": "code",
   "execution_count": null,
   "metadata": {},
   "outputs": [],
   "source": []
  }
 ],
 "metadata": {
  "kernelspec": {
   "display_name": "Python 3",
   "language": "python",
   "name": "python3"
  },
  "language_info": {
   "codemirror_mode": {
    "name": "ipython",
    "version": 3
   },
   "file_extension": ".py",
   "mimetype": "text/x-python",
   "name": "python",
   "nbconvert_exporter": "python",
   "pygments_lexer": "ipython3",
   "version": "3.6.4"
  }
 },
 "nbformat": 4,
 "nbformat_minor": 2
}
